{
 "cells": [
  {
   "cell_type": "markdown",
   "metadata": {},
   "source": [
    "# 파일 처리\n",
    "1. 파일 열기\n",
    " + open() 함수\n",
    "    + 한글처리 : encoding 옵션 사용    \n",
    "<code>fp = open('지역평균기온.txt','r', encoding='utf-8')</code>\n",
    "\n",
    "2. 파일 처리\n",
    "* 읽기 : 'r'\n",
    "    * read(), readline(), readlines()\n",
    "* 쓰기 : 'w', 'a'\n",
    "    * write()\n",
    "\n",
    "3. 파일 닫기\n",
    " - close()"
   ]
  },
  {
   "cell_type": "markdown",
   "metadata": {},
   "source": [
    "## 문자열로 읽기"
   ]
  },
  {
   "cell_type": "code",
   "execution_count": 1,
   "metadata": {},
   "outputs": [],
   "source": [
    "fp = open('지역평균기온.txt','r', encoding='utf-8')"
   ]
  },
  {
   "cell_type": "code",
   "execution_count": 2,
   "metadata": {},
   "outputs": [],
   "source": [
    "data = fp.read()\n",
    "fp.close()"
   ]
  },
  {
   "cell_type": "code",
   "execution_count": 3,
   "metadata": {},
   "outputs": [
    {
     "name": "stdout",
     "output_type": "stream",
     "text": [
      "서울,20\n",
      "부산,26\n",
      "대구,24\n",
      "인천,24\n",
      "광주,25\n",
      "대전,22\n",
      "울산,26\n",
      "세종,23\n",
      "경기,24\n",
      "강원,23\n",
      "충북,26\n",
      "충남,22\n",
      "전북,24\n",
      "전남,23\n",
      "경북,28\n",
      "경남,29\n",
      "제주,26\n"
     ]
    }
   ],
   "source": [
    "print(data)"
   ]
  },
  {
   "cell_type": "code",
   "execution_count": 4,
   "metadata": {},
   "outputs": [
    {
     "data": {
      "text/plain": [
       "'서울,20\\n부산,26\\n대구,24\\n인천,24\\n광주,25\\n대전,22\\n울산,26\\n세종,23\\n경기,24\\n강원,23\\n충북,26\\n충남,22\\n전북,24\\n전남,23\\n경북,28\\n경남,29\\n제주,26'"
      ]
     },
     "execution_count": 4,
     "metadata": {},
     "output_type": "execute_result"
    }
   ],
   "source": [
    "data"
   ]
  },
  {
   "cell_type": "code",
   "execution_count": 5,
   "metadata": {},
   "outputs": [
    {
     "name": "stdout",
     "output_type": "stream",
     "text": [
      "<class 'str'>\n"
     ]
    }
   ],
   "source": [
    "print(type(data))"
   ]
  },
  {
   "cell_type": "markdown",
   "metadata": {},
   "source": [
    "## 리스트로 읽기"
   ]
  },
  {
   "cell_type": "code",
   "execution_count": 6,
   "metadata": {},
   "outputs": [
    {
     "name": "stdout",
     "output_type": "stream",
     "text": [
      "['서울,20\\n', '부산,26\\n', '대구,24\\n', '인천,24\\n', '광주,25\\n', '대전,22\\n', '울산,26\\n', '세종,23\\n', '경기,24\\n', '강원,23\\n', '충북,26\\n', '충남,22\\n', '전북,24\\n', '전남,23\\n', '경북,28\\n', '경남,29\\n', '제주,26']\n"
     ]
    }
   ],
   "source": [
    "fp = open('지역평균기온.txt','r', encoding='utf-8')\n",
    "data = fp.readlines()\n",
    "fp.close()\n",
    "print(data)"
   ]
  },
  {
   "cell_type": "code",
   "execution_count": 7,
   "metadata": {},
   "outputs": [
    {
     "data": {
      "text/plain": [
       "['서울,20\\n',\n",
       " '부산,26\\n',\n",
       " '대구,24\\n',\n",
       " '인천,24\\n',\n",
       " '광주,25\\n',\n",
       " '대전,22\\n',\n",
       " '울산,26\\n',\n",
       " '세종,23\\n',\n",
       " '경기,24\\n',\n",
       " '강원,23\\n',\n",
       " '충북,26\\n',\n",
       " '충남,22\\n',\n",
       " '전북,24\\n',\n",
       " '전남,23\\n',\n",
       " '경북,28\\n',\n",
       " '경남,29\\n',\n",
       " '제주,26']"
      ]
     },
     "execution_count": 7,
     "metadata": {},
     "output_type": "execute_result"
    }
   ],
   "source": [
    "data"
   ]
  },
  {
   "cell_type": "code",
   "execution_count": 8,
   "metadata": {},
   "outputs": [
    {
     "name": "stdout",
     "output_type": "stream",
     "text": [
      "<class 'list'>\n"
     ]
    }
   ],
   "source": [
    "print(type(data))"
   ]
  },
  {
   "cell_type": "code",
   "execution_count": 9,
   "metadata": {},
   "outputs": [
    {
     "name": "stdout",
     "output_type": "stream",
     "text": [
      "서울 >> 20\n",
      "부산 >> 26\n",
      "대구 >> 24\n",
      "인천 >> 24\n",
      "광주 >> 25\n",
      "대전 >> 22\n",
      "울산 >> 26\n",
      "세종 >> 23\n",
      "경기 >> 24\n",
      "강원 >> 23\n",
      "충북 >> 26\n",
      "충남 >> 22\n",
      "전북 >> 24\n",
      "전남 >> 23\n",
      "경북 >> 28\n",
      "경남 >> 29\n",
      "제주 >> 26\n"
     ]
    }
   ],
   "source": [
    "temp = []\n",
    "for line in data :\n",
    "    line = line.replace('\\n','')\n",
    "    item = line.split(',')\n",
    "    print(item[0],'>>',item[1])\n",
    "    temp.append(int(item[1]))"
   ]
  },
  {
   "cell_type": "code",
   "execution_count": 10,
   "metadata": {},
   "outputs": [
    {
     "data": {
      "text/plain": [
       "[20, 26, 24, 24, 25, 22, 26, 23, 24, 23, 26, 22, 24, 23, 28, 29, 26]"
      ]
     },
     "execution_count": 10,
     "metadata": {},
     "output_type": "execute_result"
    }
   ],
   "source": [
    "temp"
   ]
  },
  {
   "cell_type": "code",
   "execution_count": 11,
   "metadata": {},
   "outputs": [
    {
     "name": "stdout",
     "output_type": "stream",
     "text": [
      "평균기온 : 24.41\n"
     ]
    }
   ],
   "source": [
    "print(f'평균기온 : {sum(temp)/len(temp):0.2f}')"
   ]
  },
  {
   "cell_type": "markdown",
   "metadata": {},
   "source": [
    "## with open() as 파일객체\n",
    "    with로 오픈되었던 파일처리가 끝나면 자동으로 close()"
   ]
  },
  {
   "cell_type": "code",
   "execution_count": 12,
   "metadata": {},
   "outputs": [],
   "source": [
    "with open('지역평균기온.txt','r', encoding='utf-8') as fp:\n",
    "    data = fp.readlines()"
   ]
  },
  {
   "cell_type": "code",
   "execution_count": 13,
   "metadata": {},
   "outputs": [
    {
     "data": {
      "text/plain": [
       "['서울,20\\n',\n",
       " '부산,26\\n',\n",
       " '대구,24\\n',\n",
       " '인천,24\\n',\n",
       " '광주,25\\n',\n",
       " '대전,22\\n',\n",
       " '울산,26\\n',\n",
       " '세종,23\\n',\n",
       " '경기,24\\n',\n",
       " '강원,23\\n',\n",
       " '충북,26\\n',\n",
       " '충남,22\\n',\n",
       " '전북,24\\n',\n",
       " '전남,23\\n',\n",
       " '경북,28\\n',\n",
       " '경남,29\\n',\n",
       " '제주,26']"
      ]
     },
     "execution_count": 13,
     "metadata": {},
     "output_type": "execute_result"
    }
   ],
   "source": [
    "data"
   ]
  },
  {
   "cell_type": "code",
   "execution_count": 14,
   "metadata": {},
   "outputs": [
    {
     "name": "stdout",
     "output_type": "stream",
     "text": [
      "서울 >> 20\n",
      "부산 >> 26\n",
      "대구 >> 24\n",
      "인천 >> 24\n",
      "광주 >> 25\n",
      "대전 >> 22\n",
      "울산 >> 26\n",
      "세종 >> 23\n",
      "경기 >> 24\n",
      "강원 >> 23\n",
      "충북 >> 26\n",
      "충남 >> 22\n",
      "전북 >> 24\n",
      "전남 >> 23\n",
      "경북 >> 28\n",
      "경남 >> 29\n",
      "제주 >> 26\n"
     ]
    }
   ],
   "source": [
    "temp=[]\n",
    "area=[]\n",
    "for line in data :\n",
    "    line = line.replace('\\n','')\n",
    "    item = line.split(',')\n",
    "    print(item[0],'>>',item[1])\n",
    "    area.append(item[0])\n",
    "    temp.append(int(item[1]))"
   ]
  },
  {
   "cell_type": "code",
   "execution_count": 15,
   "metadata": {},
   "outputs": [
    {
     "data": {
      "text/plain": [
       "[20, 26, 24, 24, 25, 22, 26, 23, 24, 23, 26, 22, 24, 23, 28, 29, 26]"
      ]
     },
     "execution_count": 15,
     "metadata": {},
     "output_type": "execute_result"
    }
   ],
   "source": [
    "temp"
   ]
  },
  {
   "cell_type": "code",
   "execution_count": null,
   "metadata": {},
   "outputs": [],
   "source": [
    "#리스트 결합\n",
    "dt = dict(zip(area, temp))\n",
    "q = input('지역을 입력 : ')\n",
    "print(dt[q])"
   ]
  },
  {
   "cell_type": "markdown",
   "metadata": {},
   "source": [
    "## 쓰기"
   ]
  },
  {
   "cell_type": "code",
   "execution_count": null,
   "metadata": {},
   "outputs": [],
   "source": [
    "fp = open('지역.txt', 'w', encoding='utf-8' )\n",
    "fp.write(area[0])\n",
    "fp.close()"
   ]
  },
  {
   "cell_type": "code",
   "execution_count": null,
   "metadata": {},
   "outputs": [],
   "source": [
    "with open ('기온.txt','w',encoding='utf-8' ) as fp:\n",
    "    for item in temp:\n",
    "        fp.write(str(item)+'\\n')"
   ]
  },
  {
   "cell_type": "code",
   "execution_count": null,
   "metadata": {},
   "outputs": [],
   "source": [
    "with open ('기온.txt','a',encoding='utf-8' ) as fp:\n",
    "    for item in temp:\n",
    "        fp.write(str(item)+'\\n')"
   ]
  },
  {
   "cell_type": "code",
   "execution_count": null,
   "metadata": {},
   "outputs": [],
   "source": []
  }
 ],
 "metadata": {
  "kernelspec": {
   "display_name": "Python 3",
   "language": "python",
   "name": "python3"
  },
  "language_info": {
   "codemirror_mode": {
    "name": "ipython",
    "version": 3
   },
   "file_extension": ".py",
   "mimetype": "text/x-python",
   "name": "python",
   "nbconvert_exporter": "python",
   "pygments_lexer": "ipython3",
   "version": "3.7.6"
  }
 },
 "nbformat": 4,
 "nbformat_minor": 4
}
